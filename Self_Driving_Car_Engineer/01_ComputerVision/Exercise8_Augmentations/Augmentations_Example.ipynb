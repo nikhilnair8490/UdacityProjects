{
 "cells": [
  {
   "cell_type": "code",
   "execution_count": null,
   "metadata": {},
   "outputs": [],
   "source": [
    "import sys\n",
    "sys.path.append('/data/virtual_envs/sdc-c1-gpu-augment/lib/python3.7/site-packages')"
   ]
  },
  {
   "cell_type": "code",
   "execution_count": null,
   "metadata": {},
   "outputs": [],
   "source": [
    "import glob\n",
    "import json\n",
    "import os\n",
    "\n",
    "import albumentations as A\n",
    "import matplotlib.pyplot as plt\n",
    "import numpy as np\n",
    "from matplotlib.patches import Rectangle\n",
    "from PIL import Image"
   ]
  },
  {
   "cell_type": "markdown",
   "metadata": {},
   "source": [
    "# Albumentations"
   ]
  },
  {
   "cell_type": "markdown",
   "metadata": {},
   "source": [
    "Albumentations is a python library for image augmentation. Almost every time you train a convolutional neural network, you need to use image augmentation to reduce overfitting and increase the variability in your dataset."
   ]
  },
  {
   "cell_type": "markdown",
   "metadata": {},
   "source": [
    "## Simple augmentations"
   ]
  },
  {
   "cell_type": "markdown",
   "metadata": {},
   "source": [
    "Let's visualize the original image. Albumentations expects numpy array so we will convert the Pillow image to a numpy array."
   ]
  },
  {
   "cell_type": "code",
   "execution_count": null,
   "metadata": {},
   "outputs": [],
   "source": [
    "img = Image.open('data/00012_00027.jpg').convert('RGB')\n",
    "img = np.array(img)"
   ]
  },
  {
   "cell_type": "code",
   "execution_count": null,
   "metadata": {},
   "outputs": [],
   "source": [
    "plt.imshow(img)\n",
    "plt.show()"
   ]
  },
  {
   "cell_type": "markdown",
   "metadata": {},
   "source": [
    "Let's experiment with rotation. To create a rotation augmentation, you need to use the `A.Rotate` function. In the parameters, you can set the `limit` which is the rotation angle in degrees. \n",
    "\n",
    "Albumentations augmentations always have the following parameters:\n",
    "* **p [float]**: probability to apply this augmentations\n",
    "* **always_apply [bool]**: always apply this augmentation or not"
   ]
  },
  {
   "cell_type": "code",
   "execution_count": null,
   "metadata": {},
   "outputs": [],
   "source": [
    "augmentation = A.Rotate(limit=90, always_apply=True)"
   ]
  },
  {
   "cell_type": "markdown",
   "metadata": {},
   "source": [
    "We apply the augmentation by running:"
   ]
  },
  {
   "cell_type": "code",
   "execution_count": null,
   "metadata": {},
   "outputs": [],
   "source": [
    "augmented = augmentation(image=img)"
   ]
  },
  {
   "cell_type": "markdown",
   "metadata": {},
   "source": [
    "And we can get the augmented image:"
   ]
  },
  {
   "cell_type": "code",
   "execution_count": null,
   "metadata": {},
   "outputs": [],
   "source": [
    "augmented_img = augmented['image']"
   ]
  },
  {
   "cell_type": "code",
   "execution_count": null,
   "metadata": {},
   "outputs": [],
   "source": [
    "plt.imshow(augmented_img)\n",
    "plt.show()"
   ]
  },
  {
   "cell_type": "markdown",
   "metadata": {},
   "source": [
    "## Compose augmentations"
   ]
  },
  {
   "cell_type": "markdown",
   "metadata": {},
   "source": [
    "We can use `Compose` to combine multiple augmentations. `Compose` takes a list of augmentations."
   ]
  },
  {
   "cell_type": "code",
   "execution_count": null,
   "metadata": {},
   "outputs": [],
   "source": [
    "augmentations = A.Compose([A.Rotate(limit=90, p=1.0), \n",
    "                           A.RandomContrast(p=1.0),\n",
    "                           A.CoarseDropout(p=1.0)])"
   ]
  },
  {
   "cell_type": "code",
   "execution_count": null,
   "metadata": {},
   "outputs": [],
   "source": [
    "augmented = augmentations(image=img)\n",
    "augmented_img = augmented['image']"
   ]
  },
  {
   "cell_type": "code",
   "execution_count": null,
   "metadata": {},
   "outputs": [],
   "source": [
    "plt.imshow(augmented_img)\n",
    "plt.show()"
   ]
  },
  {
   "cell_type": "markdown",
   "metadata": {},
   "source": [
    "## Augmentations with bounding boxes"
   ]
  },
  {
   "cell_type": "markdown",
   "metadata": {},
   "source": [
    "Finally, we can also apply augmentations to image with bounding boxes."
   ]
  },
  {
   "cell_type": "markdown",
   "metadata": {},
   "source": [
    "Let's load an image"
   ]
  },
  {
   "cell_type": "code",
   "execution_count": null,
   "metadata": {},
   "outputs": [],
   "source": [
    "img = Image.open('data/segment-12208410199966712301_4480_000_4500_000_with_camera_labels_83.png').convert('RGB')\n",
    "img = np.array(img)"
   ]
  },
  {
   "cell_type": "markdown",
   "metadata": {},
   "source": [
    "And the corresponding annotations"
   ]
  },
  {
   "cell_type": "code",
   "execution_count": null,
   "metadata": {},
   "outputs": [],
   "source": [
    "with open('data/ground_truth.json') as f:\n",
    "    annotations = json.load(f)"
   ]
  },
  {
   "cell_type": "markdown",
   "metadata": {},
   "source": [
    "We can display the original image with the annotations"
   ]
  },
  {
   "cell_type": "code",
   "execution_count": null,
   "metadata": {},
   "outputs": [],
   "source": [
    "f, ax = plt.subplots(1, figsize=(15,10))\n",
    "ax.imshow(img)\n",
    "for bb in annotations['boxes']:\n",
    "    y1, x1, y2, x2 = bb\n",
    "    rec = Rectangle((y1, x1), y2-y1, x2-x1, facecolor='none', edgecolor='r', linewidth=2)\n",
    "    ax.add_patch(rec)\n",
    "plt.show()"
   ]
  },
  {
   "cell_type": "markdown",
   "metadata": {},
   "source": [
    "Let's define a list of augmentations. We are going to flip the image horizontally, randomly crop it and apply couple pixel level transformations"
   ]
  },
  {
   "cell_type": "code",
   "execution_count": null,
   "metadata": {},
   "outputs": [],
   "source": [
    "augmentations =[A.RandomResizedCrop(height=1024, width=1024, p=1.0),\n",
    "                A.HorizontalFlip(p=1.0),\n",
    "                A.RandomContrast(p=1.0),\n",
    "                A.CoarseDropout(max_height=30, max_width=30, p=1.0)]"
   ]
  },
  {
   "cell_type": "markdown",
   "metadata": {},
   "source": [
    "When creating the composition, we need to add an extra argument. \n",
    "\n",
    "`bbox_params` will describe the following:\n",
    "* the bounding boxes format. In our case, we use the x1, y1, x2, y2 format, which corresponds to the Pascal VOC dataset.\n",
    "* the `min_area` argument controls the minimum area of the augmented bounding boxes. After cropping or resizing, if a bounding box area is under this threshold, it will be deleted.\n",
    "* the `label_fields` argument just set the name of the classes id field in our input dictionnary"
   ]
  },
  {
   "cell_type": "code",
   "execution_count": null,
   "metadata": {},
   "outputs": [],
   "source": [
    "augmentations = A.Compose(augmentations,\n",
    "                          bbox_params=A.BboxParams(format='pascal_voc', \n",
    "                                                   min_area=100,\n",
    "                                                   label_fields=['classes']))"
   ]
  },
  {
   "cell_type": "markdown",
   "metadata": {},
   "source": [
    "Let's create the input dictionnary"
   ]
  },
  {
   "cell_type": "code",
   "execution_count": null,
   "metadata": {},
   "outputs": [],
   "source": [
    "input_data = {'image': img,\n",
    "              'bboxes': annotations['boxes'],\n",
    "              'classes': annotations['classes']}"
   ]
  },
  {
   "cell_type": "code",
   "execution_count": null,
   "metadata": {},
   "outputs": [],
   "source": [
    "augmented = augmentations(**input_data)"
   ]
  },
  {
   "cell_type": "markdown",
   "metadata": {},
   "source": [
    "Finally we can display the augmented image with the corresponding bounding boxes"
   ]
  },
  {
   "cell_type": "code",
   "execution_count": null,
   "metadata": {},
   "outputs": [],
   "source": [
    "f, ax = plt.subplots(1, figsize=(15,10))\n",
    "ax.imshow(augmented['image'])\n",
    "for bb in augmented['bboxes']:\n",
    "    y1, x1, y2, x2 = bb\n",
    "    rec = Rectangle((y1, x1), y2-y1, x2-x1, facecolor='none', edgecolor='r', linewidth=2)\n",
    "    ax.add_patch(rec)\n",
    "plt.show()"
   ]
  }
 ],
 "metadata": {
  "kernelspec": {
   "display_name": "Python 3",
   "language": "python",
   "name": "python3"
  },
  "language_info": {
   "codemirror_mode": {
    "name": "ipython",
    "version": 3
   },
   "file_extension": ".py",
   "mimetype": "text/x-python",
   "name": "python",
   "nbconvert_exporter": "python",
   "pygments_lexer": "ipython3",
   "version": "3.6.3"
  }
 },
 "nbformat": 4,
 "nbformat_minor": 4
}
