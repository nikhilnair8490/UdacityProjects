{
 "cells": [
  {
   "cell_type": "code",
   "execution_count": 27,
   "metadata": {},
   "outputs": [],
   "source": [
    "import tensorflow as tf\n",
    "from tensorflow import keras\n",
    "import numpy as np\n",
    "import matplotlib.pyplot as plt"
   ]
  },
  {
   "cell_type": "code",
   "execution_count": 19,
   "metadata": {},
   "outputs": [
    {
     "name": "stdout",
     "output_type": "stream",
     "text": [
      "(60000, 28, 28)\n",
      "(60000,)\n",
      "(10000, 28, 28)\n",
      "(10000,)\n"
     ]
    }
   ],
   "source": [
    "# Load and partition the MNIST dataset\n",
    "(x_train, y_train), (x_test, y_test) = keras.datasets.mnist.load_data()\n",
    "print(x_train.shape)\n",
    "print(y_train.shape)\n",
    "print(x_test.shape)\n",
    "print(y_test.shape)"
   ]
  },
  {
   "cell_type": "code",
   "execution_count": 20,
   "metadata": {},
   "outputs": [],
   "source": [
    "# Normalize the pixel values between 0-1\n",
    "x_train = x_train/255.0\n",
    "x_test = x_test/255.0\n",
    "# Expand the dimensions Original shape: (batch_size, height, width) Expanded shape: (batch_size, height, width, 1)\n",
    "x_train = tf.expand_dims(x_train, 3)\n",
    "x_test = tf.expand_dims(x_test, 3)\n",
    "# Split the validation dataset\n",
    "x_val = x_train[:5000]\n",
    "y_val = y_train[:5000]"
   ]
  },
  {
   "cell_type": "code",
   "execution_count": 22,
   "metadata": {},
   "outputs": [],
   "source": [
    "# Implement the LeNet-5 Model\n",
    "lenet_5_model = keras.Sequential()\n",
    "# C1 Convolution Layer\n",
    "lenet_5_model.add(keras.layers.Conv2D(6, kernel_size=5, strides= 1, activation = 'tanh', input_shape= x_train[0].shape, padding='same'))\n",
    "# S2 Sub Sampling Layer\n",
    "lenet_5_model.add(keras.layers.AveragePooling2D(pool_size=(2,2),strides=(2,2)))\n",
    "# C3 Convolution Layer\n",
    "lenet_5_model.add(keras.layers.Conv2D(16, kernel_size=5, strides= 1, activation = 'tanh', input_shape= x_train[0].shape, padding='valid'))\n",
    "# S4 SubSampling Layer\n",
    "lenet_5_model.add(keras.layers.AveragePooling2D(pool_size=(2,2),strides=(2,2)))\n",
    "# C5 Convolution Layer\n",
    "lenet_5_model.add(keras.layers.Conv2D(120, kernel_size=5, strides= 1, activation = 'tanh', input_shape= x_train[0].shape, padding='valid'))\n",
    "# Flatten for FF NN\n",
    "lenet_5_model.add(keras.layers.Flatten())\n",
    "# F6 Dense fully connected layer\n",
    "lenet_5_model.add(keras.layers.Dense(84, activation='tanh'))\n",
    "# Output Layer\n",
    "lenet_5_model.add(keras.layers.Dense(10, activation='softmax'))"
   ]
  },
  {
   "cell_type": "code",
   "execution_count": 23,
   "metadata": {},
   "outputs": [],
   "source": [
    "# Compile the model\n",
    "lenet_5_model.compile(optimizer='adam', loss=keras.losses.sparse_categorical_crossentropy, metrics=['accuracy'])"
   ]
  },
  {
   "cell_type": "code",
   "execution_count": 24,
   "metadata": {},
   "outputs": [
    {
     "name": "stdout",
     "output_type": "stream",
     "text": [
      "Epoch 1/5\n"
     ]
    },
    {
     "name": "stderr",
     "output_type": "stream",
     "text": [
      "2024-08-11 21:22:01.527557: I external/local_xla/xla/stream_executor/cuda/cuda_dnn.cc:454] Loaded cuDNN version 8907\n",
      "2024-08-11 21:22:02.087696: I external/local_xla/xla/service/service.cc:168] XLA service 0x7f028cf8c5c0 initialized for platform CUDA (this does not guarantee that XLA will be used). Devices:\n",
      "2024-08-11 21:22:02.087745: I external/local_xla/xla/service/service.cc:176]   StreamExecutor device (0): NVIDIA GeForce RTX 4080 Laptop GPU, Compute Capability 8.9\n",
      "2024-08-11 21:22:02.124849: I tensorflow/compiler/mlir/tensorflow/utils/dump_mlir_util.cc:269] disabling MLIR crash reproducer, set env var `MLIR_CRASH_REPRODUCER_DIRECTORY` to enable.\n",
      "WARNING: All log messages before absl::InitializeLog() is called are written to STDERR\n",
      "I0000 00:00:1723391522.358176   22143 device_compiler.h:186] Compiled cluster using XLA!  This line is logged at most once for the lifetime of the process.\n"
     ]
    },
    {
     "name": "stdout",
     "output_type": "stream",
     "text": [
      "1875/1875 [==============================] - 7s 3ms/step - loss: 0.2294 - accuracy: 0.9313 - val_loss: 0.0843 - val_accuracy: 0.9768\n",
      "Epoch 2/5\n",
      "1875/1875 [==============================] - 5s 3ms/step - loss: 0.0848 - accuracy: 0.9738 - val_loss: 0.0554 - val_accuracy: 0.9842\n",
      "Epoch 3/5\n",
      "1875/1875 [==============================] - 5s 3ms/step - loss: 0.0582 - accuracy: 0.9818 - val_loss: 0.0368 - val_accuracy: 0.9896\n",
      "Epoch 4/5\n",
      "1875/1875 [==============================] - 5s 3ms/step - loss: 0.0459 - accuracy: 0.9855 - val_loss: 0.0307 - val_accuracy: 0.9916\n",
      "Epoch 5/5\n",
      "1875/1875 [==============================] - 5s 3ms/step - loss: 0.0360 - accuracy: 0.9888 - val_loss: 0.0281 - val_accuracy: 0.9912\n"
     ]
    },
    {
     "data": {
      "text/plain": [
       "<keras.src.callbacks.History at 0x7f0545ac5840>"
      ]
     },
     "execution_count": 24,
     "metadata": {},
     "output_type": "execute_result"
    }
   ],
   "source": [
    "# Train the model\n",
    "lenet_5_model.fit(x_train, y_train, epochs=5, validation_data=(x_val,y_val))"
   ]
  },
  {
   "cell_type": "code",
   "execution_count": 25,
   "metadata": {},
   "outputs": [
    {
     "name": "stdout",
     "output_type": "stream",
     "text": [
      "313/313 [==============================] - 1s 3ms/step - loss: 0.0583 - accuracy: 0.9806\n"
     ]
    },
    {
     "data": {
      "text/plain": [
       "[0.05827999860048294, 0.9805999994277954]"
      ]
     },
     "execution_count": 25,
     "metadata": {},
     "output_type": "execute_result"
    }
   ],
   "source": [
    "# Evaluate the model on test data\n",
    "lenet_5_model.evaluate(x_test, y_test)"
   ]
  },
  {
   "cell_type": "code",
   "execution_count": 41,
   "metadata": {},
   "outputs": [
    {
     "name": "stdout",
     "output_type": "stream",
     "text": [
      "1/1 [==============================] - 0s 22ms/step\n",
      "1\n"
     ]
    },
    {
     "data": {
      "image/png": "[encoded data removed]",
      "text/plain": [
       "<Figure size 640x480 with 1 Axes>"
      ]
     },
     "metadata": {},
     "output_type": "display_data"
    }
   ],
   "source": [
    "# Plot the Image\n",
    "image_index = 1260\n",
    "plt.imshow(x_test[image_index], cmap='Greys')\n",
    "\n",
    "# Make Prediction\n",
    "pred = lenet_5_model.predict(tf.expand_dims(x_test[image_index],0))\n",
    "print(pred.argmax())"
   ]
  }
 ],
 "metadata": {
  "kernelspec": {
   "display_name": "venv_tensor_flow",
   "language": "python",
   "name": "python3"
  },
  "language_info": {
   "codemirror_mode": {
    "name": "ipython",
    "version": 3
   },
   "file_extension": ".py",
   "mimetype": "text/x-python",
   "name": "python",
   "nbconvert_exporter": "python",
   "pygments_lexer": "ipython3",
   "version": "3.10.12"
  }
 },
 "nbformat": 4,
 "nbformat_minor": 2
}
